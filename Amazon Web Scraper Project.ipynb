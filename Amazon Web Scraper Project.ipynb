{
 "cells": [
  {
   "cell_type": "markdown",
   "id": "4ceaa965",
   "metadata": {},
   "source": [
    "# Amazon Web Scraping"
   ]
  },
  {
   "cell_type": "code",
   "execution_count": 1,
   "id": "22b3b4d8",
   "metadata": {},
   "outputs": [],
   "source": [
    "# import libraries \n",
    "\n",
    "from bs4 import BeautifulSoup\n",
    "import requests\n",
    "import time\n",
    "import datetime\n",
    "\n",
    "import smtplib"
   ]
  },
  {
   "cell_type": "code",
   "execution_count": 56,
   "id": "71a20c65",
   "metadata": {},
   "outputs": [
    {
     "name": "stdout",
     "output_type": "stream",
     "text": [
      "DUDEME I'm Offline | Programmer T Shirt | Coding T Shirt for Coders | Developer T Shirt | Round Neck Cotton T-Shirt | Geek Half Sleeve T Shirt for Men & Women\n",
      "549\n",
      "4.6\n"
     ]
    }
   ],
   "source": [
    "URL = 'https://www.amazon.in/DUDEME-Offline-Programmer-Developer-T-Shirt/dp/B08SKLCF53/ref=sr_1_1?keywords=data%2Banalyst%2Btshirt&qid=1706565248&sr=8-1'\n",
    "\n",
    "\n",
    "headers = {\"User-Agent\": \"Mozilla/5.0 (Windows NT 10.0; Win64; x64) AppleWebKit/537.36 (KHTML, like Gecko) Chrome/120.0.0.0 Safari/537.36\"}\n",
    "\n",
    "page = requests.get(URL, headers=headers)\n",
    "\n",
    "soup1 = BeautifulSoup(page.content, \"html.parser\")\n",
    "           \n",
    "\n",
    "soup2 = BeautifulSoup(soup1.prettify(), \"html.parser\")\n",
    "\n",
    "\n",
    "title_element = soup2.find(id='productTitle')\n",
    "\n",
    "if title_element is not None:\n",
    "    title = title_element.get_text().strip()\n",
    "    print(title)\n",
    "else:\n",
    "    print(\"Title not found.\")\n",
    "    \n",
    "price_element = soup2.find(class_='a-price-whole')\n",
    "\n",
    "if price_element is not None:\n",
    "    price = price_element.get_text(strip=True)\n",
    "    print(price)\n",
    "else:\n",
    "    print(\"Price not found.\")\n",
    "    \n",
    "rating_element = soup2.find(class_='a-size-base a-color-base')\n",
    "\n",
    "if rating_element is not None:\n",
    "    rating = rating_element.get_text().strip()\n",
    "    print(rating)\n",
    "else:\n",
    "    print(\"Rating not found.\")\n"
   ]
  },
  {
   "cell_type": "code",
   "execution_count": 57,
   "id": "1a99f359",
   "metadata": {},
   "outputs": [
    {
     "name": "stdout",
     "output_type": "stream",
     "text": [
      "2024-01-30\n"
     ]
    }
   ],
   "source": [
    "# Create a Timestamp for your output to track when data was collected\n",
    "\n",
    "import datetime\n",
    "\n",
    "today = datetime.date.today()\n",
    "\n",
    "print(today)"
   ]
  },
  {
   "cell_type": "code",
   "execution_count": 59,
   "id": "a771317d",
   "metadata": {},
   "outputs": [],
   "source": [
    "# Create CSV and write headers and data into the file\n",
    "\n",
    "import csv \n",
    "\n",
    "header = ['Title', 'Price', 'Rating', 'Date']\n",
    "data = [title, price, rating, today]\n",
    "\n",
    "\n",
    "#with open('AmazonWebScraperDataset.csv', 'w', newline='', encoding='UTF8') as f:\n",
    "   # writer = csv.writer(f)\n",
    "   # writer.writerow(header)\n",
    "   # writer.writerow(data)\n",
    "    "
   ]
  },
  {
   "cell_type": "code",
   "execution_count": 60,
   "id": "046105b1",
   "metadata": {},
   "outputs": [
    {
     "name": "stdout",
     "output_type": "stream",
     "text": [
      "C:\\Users\\Slugger\\Data Projects\n"
     ]
    }
   ],
   "source": [
    "import os\n",
    "print(os.getcwd())\n"
   ]
  },
  {
   "cell_type": "code",
   "execution_count": 62,
   "id": "db8aee54",
   "metadata": {},
   "outputs": [
    {
     "data": {
      "text/html": [
       "<div>\n",
       "<style scoped>\n",
       "    .dataframe tbody tr th:only-of-type {\n",
       "        vertical-align: middle;\n",
       "    }\n",
       "\n",
       "    .dataframe tbody tr th {\n",
       "        vertical-align: top;\n",
       "    }\n",
       "\n",
       "    .dataframe thead th {\n",
       "        text-align: right;\n",
       "    }\n",
       "</style>\n",
       "<table border=\"1\" class=\"dataframe\">\n",
       "  <thead>\n",
       "    <tr style=\"text-align: right;\">\n",
       "      <th></th>\n",
       "      <th>Title</th>\n",
       "      <th>Price</th>\n",
       "      <th>Rating</th>\n",
       "      <th>Date</th>\n",
       "    </tr>\n",
       "  </thead>\n",
       "  <tbody>\n",
       "    <tr>\n",
       "      <th>0</th>\n",
       "      <td>DUDEME I'm Offline | Programmer T Shirt | Codi...</td>\n",
       "      <td>549</td>\n",
       "      <td>4.6</td>\n",
       "      <td>2024-01-30</td>\n",
       "    </tr>\n",
       "  </tbody>\n",
       "</table>\n",
       "</div>"
      ],
      "text/plain": [
       "                                               Title  Price  Rating  \\\n",
       "0  DUDEME I'm Offline | Programmer T Shirt | Codi...    549     4.6   \n",
       "\n",
       "         Date  \n",
       "0  2024-01-30  "
      ]
     },
     "execution_count": 62,
     "metadata": {},
     "output_type": "execute_result"
    }
   ],
   "source": [
    "import pandas as pd\n",
    "\n",
    "df = pd.read_csv(r\"C:\\Users\\Slugger\\Data Projects\\AmazonWebScraperDataset.csv\")\n",
    "\n",
    "df"
   ]
  },
  {
   "cell_type": "code",
   "execution_count": null,
   "id": "ce748e72",
   "metadata": {},
   "outputs": [],
   "source": [
    "#Now we are appending data to the csv\n",
    "\n",
    "with open('AmazonWebScraperDataset.csv', 'a+', newline='', encoding='UTF8') as f:\n",
    "    writer = csv.writer(f)\n",
    "    writer.writerow(data)"
   ]
  },
  {
   "cell_type": "code",
   "execution_count": null,
   "id": "26dd569c",
   "metadata": {},
   "outputs": [],
   "source": [
    "#Combine all of the above code into one function\n",
    "\n",
    "\n",
    "def check_price():\n",
    "    URL = 'https://www.amazon.in/DUDEME-Offline-Programmer-Developer-T-Shirt/dp/B08SKLCF53/ref=sr_1_1?keywords=data%2Banalyst%2Btshirt&qid=1706565248&sr=8-1'\n",
    "\n",
    "\n",
    "    headers = {\"User-Agent\": \"Mozilla/5.0 (Windows NT 10.0; Win64; x64) AppleWebKit/537.36 (KHTML, like Gecko) Chrome/120.0.0.0 Safari/537.36\"}\n",
    "\n",
    "    page = requests.get(URL, headers=headers)\n",
    "\n",
    "    soup1 = BeautifulSoup(page.content, \"html.parser\")\n",
    "           \n",
    "\n",
    "    soup2 = BeautifulSoup(soup1.prettify(), \"html.parser\")\n",
    "\n",
    "\n",
    "    title_element = soup2.find(id='productTitle')\n",
    "\n",
    "    if title_element is not None:\n",
    "        title = title_element.get_text().strip()\n",
    "        print(title)\n",
    "    else:\n",
    "        print(\"Title not found.\")\n",
    "    \n",
    "    price_element = soup2.find(class_='a-price-whole')\n",
    "\n",
    "    if price_element is not None:\n",
    "        price = price_element.get_text(strip=True)\n",
    "        print(price)\n",
    "    else:\n",
    "        print(\"Price not found.\")\n",
    "    \n",
    "    rating_element = soup2.find(class_='a-size-base a-color-base')\n",
    "\n",
    "    if rating_element is not None:\n",
    "        rating = rating_element.get_text().strip()\n",
    "        print(rating)\n",
    "    else:\n",
    "            print(\"Rating not found.\")\n",
    "\n",
    "    import datetime\n",
    "\n",
    "    today = datetime.date.today()\n",
    "    \n",
    "    import csv \n",
    "\n",
    "    header = ['Title', 'Price', 'Rating', 'Date']\n",
    "    data = [title, price, rating, today]\n",
    "\n",
    "\n",
    "    with open('AmazonWebScraperDataset.csv', 'a+', newline='', encoding='UTF8') as f:\n",
    "        writer = csv.writer(f)\n",
    "        writer.writerow(data)"
   ]
  },
  {
   "cell_type": "code",
   "execution_count": null,
   "id": "03748db1",
   "metadata": {},
   "outputs": [
    {
     "name": "stdout",
     "output_type": "stream",
     "text": [
      "DUDEME I'm Offline | Programmer T Shirt | Coding T Shirt for Coders | Developer T Shirt | Round Neck Cotton T-Shirt | Geek Half Sleeve T Shirt for Men & Women\n",
      "549\n",
      "4.6\n"
     ]
    }
   ],
   "source": [
    "# Runs check_price after a set time and inputs data into your CSV\n",
    "\n",
    "while(True):\n",
    "    check_price()\n",
    "    time.sleep(86400)"
   ]
  },
  {
   "cell_type": "code",
   "execution_count": 68,
   "id": "72477539",
   "metadata": {},
   "outputs": [
    {
     "data": {
      "text/html": [
       "<div>\n",
       "<style scoped>\n",
       "    .dataframe tbody tr th:only-of-type {\n",
       "        vertical-align: middle;\n",
       "    }\n",
       "\n",
       "    .dataframe tbody tr th {\n",
       "        vertical-align: top;\n",
       "    }\n",
       "\n",
       "    .dataframe thead th {\n",
       "        text-align: right;\n",
       "    }\n",
       "</style>\n",
       "<table border=\"1\" class=\"dataframe\">\n",
       "  <thead>\n",
       "    <tr style=\"text-align: right;\">\n",
       "      <th></th>\n",
       "      <th>Title</th>\n",
       "      <th>Price</th>\n",
       "      <th>Rating</th>\n",
       "      <th>Date</th>\n",
       "    </tr>\n",
       "  </thead>\n",
       "  <tbody>\n",
       "    <tr>\n",
       "      <th>0</th>\n",
       "      <td>DUDEME I'm Offline | Programmer T Shirt | Codi...</td>\n",
       "      <td>549</td>\n",
       "      <td>4.6</td>\n",
       "      <td>2024-01-30</td>\n",
       "    </tr>\n",
       "    <tr>\n",
       "      <th>1</th>\n",
       "      <td>DUDEME I'm Offline | Programmer T Shirt | Codi...</td>\n",
       "      <td>549</td>\n",
       "      <td>4.6</td>\n",
       "      <td>2024-01-30</td>\n",
       "    </tr>\n",
       "    <tr>\n",
       "      <th>2</th>\n",
       "      <td>DUDEME I'm Offline | Programmer T Shirt | Codi...</td>\n",
       "      <td>549</td>\n",
       "      <td>4.6</td>\n",
       "      <td>2024-01-30</td>\n",
       "    </tr>\n",
       "    <tr>\n",
       "      <th>3</th>\n",
       "      <td>DUDEME I'm Offline | Programmer T Shirt | Codi...</td>\n",
       "      <td>549</td>\n",
       "      <td>4.6</td>\n",
       "      <td>2024-01-30</td>\n",
       "    </tr>\n",
       "    <tr>\n",
       "      <th>4</th>\n",
       "      <td>DUDEME I'm Offline | Programmer T Shirt | Codi...</td>\n",
       "      <td>549</td>\n",
       "      <td>4.6</td>\n",
       "      <td>2024-01-30</td>\n",
       "    </tr>\n",
       "    <tr>\n",
       "      <th>5</th>\n",
       "      <td>DUDEME I'm Offline | Programmer T Shirt | Codi...</td>\n",
       "      <td>549</td>\n",
       "      <td>4.6</td>\n",
       "      <td>2024-01-30</td>\n",
       "    </tr>\n",
       "    <tr>\n",
       "      <th>6</th>\n",
       "      <td>DUDEME I'm Offline | Programmer T Shirt | Codi...</td>\n",
       "      <td>549</td>\n",
       "      <td>4.6</td>\n",
       "      <td>2024-01-30</td>\n",
       "    </tr>\n",
       "  </tbody>\n",
       "</table>\n",
       "</div>"
      ],
      "text/plain": [
       "                                               Title  Price  Rating  \\\n",
       "0  DUDEME I'm Offline | Programmer T Shirt | Codi...    549     4.6   \n",
       "1  DUDEME I'm Offline | Programmer T Shirt | Codi...    549     4.6   \n",
       "2  DUDEME I'm Offline | Programmer T Shirt | Codi...    549     4.6   \n",
       "3  DUDEME I'm Offline | Programmer T Shirt | Codi...    549     4.6   \n",
       "4  DUDEME I'm Offline | Programmer T Shirt | Codi...    549     4.6   \n",
       "5  DUDEME I'm Offline | Programmer T Shirt | Codi...    549     4.6   \n",
       "6  DUDEME I'm Offline | Programmer T Shirt | Codi...    549     4.6   \n",
       "\n",
       "         Date  \n",
       "0  2024-01-30  \n",
       "1  2024-01-30  \n",
       "2  2024-01-30  \n",
       "3  2024-01-30  \n",
       "4  2024-01-30  \n",
       "5  2024-01-30  \n",
       "6  2024-01-30  "
      ]
     },
     "execution_count": 68,
     "metadata": {},
     "output_type": "execute_result"
    }
   ],
   "source": [
    "import pandas as pd\n",
    "\n",
    "df = pd.read_csv(r\"C:\\Users\\Slugger\\Data Projects\\AmazonWebScraperDataset.csv\")\n",
    "\n",
    "df"
   ]
  },
  {
   "cell_type": "code",
   "execution_count": null,
   "id": "0f01a42a",
   "metadata": {},
   "outputs": [],
   "source": []
  },
  {
   "cell_type": "code",
   "execution_count": null,
   "id": "68f8f513",
   "metadata": {},
   "outputs": [],
   "source": []
  },
  {
   "cell_type": "code",
   "execution_count": null,
   "id": "ce7b457b",
   "metadata": {},
   "outputs": [],
   "source": []
  },
  {
   "cell_type": "code",
   "execution_count": null,
   "id": "f4baa120",
   "metadata": {},
   "outputs": [],
   "source": []
  }
 ],
 "metadata": {
  "kernelspec": {
   "display_name": "Python 3 (ipykernel)",
   "language": "python",
   "name": "python3"
  },
  "language_info": {
   "codemirror_mode": {
    "name": "ipython",
    "version": 3
   },
   "file_extension": ".py",
   "mimetype": "text/x-python",
   "name": "python",
   "nbconvert_exporter": "python",
   "pygments_lexer": "ipython3",
   "version": "3.11.5"
  }
 },
 "nbformat": 4,
 "nbformat_minor": 5
}
